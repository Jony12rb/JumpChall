{
 "cells": [
  {
   "cell_type": "markdown",
   "metadata": {},
   "source": [
    "## Imports\n"
   ]
  },
  {
   "cell_type": "code",
   "execution_count": 49,
   "metadata": {},
   "outputs": [],
   "source": [
    "import pandas as pd"
   ]
  },
  {
   "cell_type": "markdown",
   "metadata": {},
   "source": [
    "### Qualitative analysis\n"
   ]
  },
  {
   "cell_type": "markdown",
   "metadata": {},
   "source": [
    "#### Lloguer dataset"
   ]
  },
  {
   "cell_type": "code",
   "execution_count": 50,
   "metadata": {},
   "outputs": [
    {
     "data": {
      "text/html": [
       "<div>\n",
       "<style scoped>\n",
       "    .dataframe tbody tr th:only-of-type {\n",
       "        vertical-align: middle;\n",
       "    }\n",
       "\n",
       "    .dataframe tbody tr th {\n",
       "        vertical-align: top;\n",
       "    }\n",
       "\n",
       "    .dataframe thead th {\n",
       "        text-align: right;\n",
       "    }\n",
       "</style>\n",
       "<table border=\"1\" class=\"dataframe\">\n",
       "  <thead>\n",
       "    <tr style=\"text-align: right;\">\n",
       "      <th></th>\n",
       "      <th>Any</th>\n",
       "      <th>Trimestre</th>\n",
       "      <th>Codi_Districte</th>\n",
       "      <th>Nom_Districte</th>\n",
       "      <th>Codi_Barri</th>\n",
       "      <th>Nom_Barri</th>\n",
       "      <th>Lloguer_mitja</th>\n",
       "      <th>Preu</th>\n",
       "    </tr>\n",
       "  </thead>\n",
       "  <tbody>\n",
       "    <tr>\n",
       "      <th>0</th>\n",
       "      <td>2017</td>\n",
       "      <td>1</td>\n",
       "      <td>1</td>\n",
       "      <td>Ciutat Vella</td>\n",
       "      <td>1</td>\n",
       "      <td>el Raval</td>\n",
       "      <td>Lloguer mitjà mensual (Euros/mes)</td>\n",
       "      <td>734.99</td>\n",
       "    </tr>\n",
       "    <tr>\n",
       "      <th>1</th>\n",
       "      <td>2017</td>\n",
       "      <td>1</td>\n",
       "      <td>1</td>\n",
       "      <td>Ciutat Vella</td>\n",
       "      <td>2</td>\n",
       "      <td>el Barri Gòtic</td>\n",
       "      <td>Lloguer mitjà mensual (Euros/mes)</td>\n",
       "      <td>905.26</td>\n",
       "    </tr>\n",
       "    <tr>\n",
       "      <th>2</th>\n",
       "      <td>2017</td>\n",
       "      <td>1</td>\n",
       "      <td>1</td>\n",
       "      <td>Ciutat Vella</td>\n",
       "      <td>3</td>\n",
       "      <td>la Barceloneta</td>\n",
       "      <td>Lloguer mitjà mensual (Euros/mes)</td>\n",
       "      <td>722.78</td>\n",
       "    </tr>\n",
       "    <tr>\n",
       "      <th>3</th>\n",
       "      <td>2017</td>\n",
       "      <td>1</td>\n",
       "      <td>1</td>\n",
       "      <td>Ciutat Vella</td>\n",
       "      <td>4</td>\n",
       "      <td>Sant Pere, Santa Caterina i la Ribera</td>\n",
       "      <td>Lloguer mitjà mensual (Euros/mes)</td>\n",
       "      <td>895.28</td>\n",
       "    </tr>\n",
       "    <tr>\n",
       "      <th>4</th>\n",
       "      <td>2017</td>\n",
       "      <td>1</td>\n",
       "      <td>2</td>\n",
       "      <td>Eixample</td>\n",
       "      <td>5</td>\n",
       "      <td>el Fort Pienc</td>\n",
       "      <td>Lloguer mitjà mensual (Euros/mes)</td>\n",
       "      <td>871.08</td>\n",
       "    </tr>\n",
       "  </tbody>\n",
       "</table>\n",
       "</div>"
      ],
      "text/plain": [
       "    Any  Trimestre  Codi_Districte Nom_Districte  Codi_Barri   \n",
       "0  2017          1               1  Ciutat Vella           1  \\\n",
       "1  2017          1               1  Ciutat Vella           2   \n",
       "2  2017          1               1  Ciutat Vella           3   \n",
       "3  2017          1               1  Ciutat Vella           4   \n",
       "4  2017          1               2      Eixample           5   \n",
       "\n",
       "                               Nom_Barri                      Lloguer_mitja   \n",
       "0                               el Raval  Lloguer mitjà mensual (Euros/mes)  \\\n",
       "1                         el Barri Gòtic  Lloguer mitjà mensual (Euros/mes)   \n",
       "2                         la Barceloneta  Lloguer mitjà mensual (Euros/mes)   \n",
       "3  Sant Pere, Santa Caterina i la Ribera  Lloguer mitjà mensual (Euros/mes)   \n",
       "4                          el Fort Pienc  Lloguer mitjà mensual (Euros/mes)   \n",
       "\n",
       "     Preu  \n",
       "0  734.99  \n",
       "1  905.26  \n",
       "2  722.78  \n",
       "3  895.28  \n",
       "4  871.08  "
      ]
     },
     "execution_count": 50,
     "metadata": {},
     "output_type": "execute_result"
    }
   ],
   "source": [
    "llogdf = pd.read_csv('2017_lloguer_preu_trim.csv')\n",
    "llogdf.head()"
   ]
  },
  {
   "cell_type": "code",
   "execution_count": 51,
   "metadata": {},
   "outputs": [
    {
     "data": {
      "text/plain": [
       "(584, 8)"
      ]
     },
     "execution_count": 51,
     "metadata": {},
     "output_type": "execute_result"
    }
   ],
   "source": [
    "llogdf.shape"
   ]
  },
  {
   "cell_type": "markdown",
   "metadata": {},
   "source": [
    "We have 584 rows and 8 columns. Now we will analyze the characteristics of the dataset."
   ]
  },
  {
   "cell_type": "markdown",
   "metadata": {},
   "source": [
    "#### Column investigation"
   ]
  },
  {
   "cell_type": "code",
   "execution_count": 52,
   "metadata": {},
   "outputs": [
    {
     "name": "stdout",
     "output_type": "stream",
     "text": [
      "\n",
      "    Column: Any\n",
      "    Type: int64\n",
      "    Missing values: 0    \n",
      "    Number of unique values: 1       \n",
      "    \n",
      "\n",
      "    Column: Trimestre\n",
      "    Type: int64\n",
      "    Missing values: 0    \n",
      "    Number of unique values: 4       \n",
      "    \n",
      "\n",
      "    Column: Codi_Districte\n",
      "    Type: int64\n",
      "    Missing values: 0    \n",
      "    Number of unique values: 10       \n",
      "    \n",
      "\n",
      "    Column: Nom_Districte\n",
      "    Type: object\n",
      "    Missing values: 0    \n",
      "    Number of unique values: 10       \n",
      "    \n",
      "\n",
      "    Column: Codi_Barri\n",
      "    Type: int64\n",
      "    Missing values: 0    \n",
      "    Number of unique values: 73       \n",
      "    \n",
      "\n",
      "    Column: Nom_Barri\n",
      "    Type: object\n",
      "    Missing values: 0    \n",
      "    Number of unique values: 73       \n",
      "    \n",
      "\n",
      "    Column: Lloguer_mitja\n",
      "    Type: object\n",
      "    Missing values: 0    \n",
      "    Number of unique values: 2       \n",
      "    \n",
      "\n",
      "    Column: Preu\n",
      "    Type: float64\n",
      "    Missing values: 38    \n",
      "    Number of unique values: 504       \n",
      "    \n"
     ]
    }
   ],
   "source": [
    "# Writes relevant information about each column \n",
    "for col in llogdf.columns:\n",
    "    print(\n",
    "    f\"\"\"\n",
    "    Column: {col}\n",
    "    Type: {llogdf[col].dtype}\n",
    "    Missing values: {llogdf[col].isna().sum()}    \n",
    "    Number of unique values: {llogdf[col].nunique()}       \n",
    "    \"\"\")"
   ]
  },
  {
   "cell_type": "markdown",
   "metadata": {},
   "source": [
    "We can observe that the only column with Null values is `Preu`. We will deal with that later on. We can also see that we have 1 value for year and 4 values for `trimeste` (as we should have expected), 10 for `codi_districte` (and `nom_districte`), 73 for `codi_barri` (and `nom_barri`), 2 for `lloguer_mitjà`. Let us see which are these two values."
   ]
  },
  {
   "cell_type": "code",
   "execution_count": 53,
   "metadata": {},
   "outputs": [
    {
     "data": {
      "text/plain": [
       "array(['Lloguer mitjà mensual (Euros/mes)',\n",
       "       'Lloguer mitjà per superfície (Euros/m2 mes)'], dtype=object)"
      ]
     },
     "execution_count": 53,
     "metadata": {},
     "output_type": "execute_result"
    }
   ],
   "source": [
    "# show the unique values of \"lloguer_mitja\"\n",
    "llogdf[\"Lloguer_mitja\"].unique()"
   ]
  },
  {
   "cell_type": "markdown",
   "metadata": {},
   "source": [
    "As we can see, it seems like we have the data of the price for each combination of district and neighborhood both in euros and euros per square meter."
   ]
  },
  {
   "cell_type": "markdown",
   "metadata": {},
   "source": [
    "#### Data reorganization"
   ]
  },
  {
   "cell_type": "markdown",
   "metadata": {},
   "source": [
    "We will now reorganize the data in order to make analysis easier. The first step is to get rid of unnecesary columns such as \"Any\" (only one value) and \"codi_districte\" and \"codi_barri\" (we will use the names instead). We will also rename the columns to make them easier to use."
   ]
  },
  {
   "cell_type": "code",
   "execution_count": 54,
   "metadata": {},
   "outputs": [
    {
     "data": {
      "text/html": [
       "<div>\n",
       "<style scoped>\n",
       "    .dataframe tbody tr th:only-of-type {\n",
       "        vertical-align: middle;\n",
       "    }\n",
       "\n",
       "    .dataframe tbody tr th {\n",
       "        vertical-align: top;\n",
       "    }\n",
       "\n",
       "    .dataframe thead th {\n",
       "        text-align: right;\n",
       "    }\n",
       "</style>\n",
       "<table border=\"1\" class=\"dataframe\">\n",
       "  <thead>\n",
       "    <tr style=\"text-align: right;\">\n",
       "      <th></th>\n",
       "      <th>Trimestre</th>\n",
       "      <th>Nom_Districte</th>\n",
       "      <th>Nom_Barri</th>\n",
       "      <th>Lloguer_mitja</th>\n",
       "      <th>Preu</th>\n",
       "    </tr>\n",
       "  </thead>\n",
       "  <tbody>\n",
       "    <tr>\n",
       "      <th>0</th>\n",
       "      <td>1</td>\n",
       "      <td>Ciutat Vella</td>\n",
       "      <td>el Raval</td>\n",
       "      <td>Lloguer mitjà mensual (Euros/mes)</td>\n",
       "      <td>734.99</td>\n",
       "    </tr>\n",
       "    <tr>\n",
       "      <th>1</th>\n",
       "      <td>1</td>\n",
       "      <td>Ciutat Vella</td>\n",
       "      <td>el Barri Gòtic</td>\n",
       "      <td>Lloguer mitjà mensual (Euros/mes)</td>\n",
       "      <td>905.26</td>\n",
       "    </tr>\n",
       "    <tr>\n",
       "      <th>2</th>\n",
       "      <td>1</td>\n",
       "      <td>Ciutat Vella</td>\n",
       "      <td>la Barceloneta</td>\n",
       "      <td>Lloguer mitjà mensual (Euros/mes)</td>\n",
       "      <td>722.78</td>\n",
       "    </tr>\n",
       "    <tr>\n",
       "      <th>3</th>\n",
       "      <td>1</td>\n",
       "      <td>Ciutat Vella</td>\n",
       "      <td>Sant Pere, Santa Caterina i la Ribera</td>\n",
       "      <td>Lloguer mitjà mensual (Euros/mes)</td>\n",
       "      <td>895.28</td>\n",
       "    </tr>\n",
       "    <tr>\n",
       "      <th>4</th>\n",
       "      <td>1</td>\n",
       "      <td>Eixample</td>\n",
       "      <td>el Fort Pienc</td>\n",
       "      <td>Lloguer mitjà mensual (Euros/mes)</td>\n",
       "      <td>871.08</td>\n",
       "    </tr>\n",
       "  </tbody>\n",
       "</table>\n",
       "</div>"
      ],
      "text/plain": [
       "   Trimestre Nom_Districte                              Nom_Barri   \n",
       "0          1  Ciutat Vella                               el Raval  \\\n",
       "1          1  Ciutat Vella                         el Barri Gòtic   \n",
       "2          1  Ciutat Vella                         la Barceloneta   \n",
       "3          1  Ciutat Vella  Sant Pere, Santa Caterina i la Ribera   \n",
       "4          1      Eixample                          el Fort Pienc   \n",
       "\n",
       "                       Lloguer_mitja    Preu  \n",
       "0  Lloguer mitjà mensual (Euros/mes)  734.99  \n",
       "1  Lloguer mitjà mensual (Euros/mes)  905.26  \n",
       "2  Lloguer mitjà mensual (Euros/mes)  722.78  \n",
       "3  Lloguer mitjà mensual (Euros/mes)  895.28  \n",
       "4  Lloguer mitjà mensual (Euros/mes)  871.08  "
      ]
     },
     "execution_count": 54,
     "metadata": {},
     "output_type": "execute_result"
    }
   ],
   "source": [
    "llogdf.drop(columns=[\"Any\", \"Codi_Barri\", \"Codi_Districte\"], inplace=True)\n",
    "llogdf.head()"
   ]
  },
  {
   "cell_type": "markdown",
   "metadata": {},
   "source": [
    "Now we will reduce the number of rows by grouping in the same row the data of the same district and neighborhood."
   ]
  },
  {
   "cell_type": "code",
   "execution_count": 75,
   "metadata": {},
   "outputs": [
    {
     "data": {
      "text/html": [
       "<div>\n",
       "<style scoped>\n",
       "    .dataframe tbody tr th:only-of-type {\n",
       "        vertical-align: middle;\n",
       "    }\n",
       "\n",
       "    .dataframe tbody tr th {\n",
       "        vertical-align: top;\n",
       "    }\n",
       "\n",
       "    .dataframe thead th {\n",
       "        text-align: right;\n",
       "    }\n",
       "</style>\n",
       "<table border=\"1\" class=\"dataframe\">\n",
       "  <thead>\n",
       "    <tr style=\"text-align: right;\">\n",
       "      <th></th>\n",
       "      <th>Trimestre</th>\n",
       "      <th>Nom_Districte</th>\n",
       "      <th>Nom_Barri</th>\n",
       "      <th>Lloguer_mitja_x</th>\n",
       "      <th>Preu_x</th>\n",
       "      <th>Lloguer_mitja_y</th>\n",
       "      <th>Preu_y</th>\n",
       "    </tr>\n",
       "  </thead>\n",
       "  <tbody>\n",
       "    <tr>\n",
       "      <th>0</th>\n",
       "      <td>1</td>\n",
       "      <td>Ciutat Vella</td>\n",
       "      <td>el Raval</td>\n",
       "      <td>Lloguer mitjà mensual (Euros/mes)</td>\n",
       "      <td>734.99</td>\n",
       "      <td>Lloguer mitjà per superfície (Euros/m2 mes)</td>\n",
       "      <td>13.50</td>\n",
       "    </tr>\n",
       "    <tr>\n",
       "      <th>1</th>\n",
       "      <td>1</td>\n",
       "      <td>Ciutat Vella</td>\n",
       "      <td>el Barri Gòtic</td>\n",
       "      <td>Lloguer mitjà mensual (Euros/mes)</td>\n",
       "      <td>905.26</td>\n",
       "      <td>Lloguer mitjà per superfície (Euros/m2 mes)</td>\n",
       "      <td>14.14</td>\n",
       "    </tr>\n",
       "    <tr>\n",
       "      <th>2</th>\n",
       "      <td>1</td>\n",
       "      <td>Ciutat Vella</td>\n",
       "      <td>la Barceloneta</td>\n",
       "      <td>Lloguer mitjà mensual (Euros/mes)</td>\n",
       "      <td>722.78</td>\n",
       "      <td>Lloguer mitjà per superfície (Euros/m2 mes)</td>\n",
       "      <td>19.46</td>\n",
       "    </tr>\n",
       "    <tr>\n",
       "      <th>3</th>\n",
       "      <td>1</td>\n",
       "      <td>Ciutat Vella</td>\n",
       "      <td>Sant Pere, Santa Caterina i la Ribera</td>\n",
       "      <td>Lloguer mitjà mensual (Euros/mes)</td>\n",
       "      <td>895.28</td>\n",
       "      <td>Lloguer mitjà per superfície (Euros/m2 mes)</td>\n",
       "      <td>15.01</td>\n",
       "    </tr>\n",
       "    <tr>\n",
       "      <th>4</th>\n",
       "      <td>1</td>\n",
       "      <td>Eixample</td>\n",
       "      <td>el Fort Pienc</td>\n",
       "      <td>Lloguer mitjà mensual (Euros/mes)</td>\n",
       "      <td>871.08</td>\n",
       "      <td>Lloguer mitjà per superfície (Euros/m2 mes)</td>\n",
       "      <td>12.77</td>\n",
       "    </tr>\n",
       "  </tbody>\n",
       "</table>\n",
       "</div>"
      ],
      "text/plain": [
       "   Trimestre Nom_Districte                              Nom_Barri   \n",
       "0          1  Ciutat Vella                               el Raval  \\\n",
       "1          1  Ciutat Vella                         el Barri Gòtic   \n",
       "2          1  Ciutat Vella                         la Barceloneta   \n",
       "3          1  Ciutat Vella  Sant Pere, Santa Caterina i la Ribera   \n",
       "4          1      Eixample                          el Fort Pienc   \n",
       "\n",
       "                     Lloguer_mitja_x  Preu_x   \n",
       "0  Lloguer mitjà mensual (Euros/mes)  734.99  \\\n",
       "1  Lloguer mitjà mensual (Euros/mes)  905.26   \n",
       "2  Lloguer mitjà mensual (Euros/mes)  722.78   \n",
       "3  Lloguer mitjà mensual (Euros/mes)  895.28   \n",
       "4  Lloguer mitjà mensual (Euros/mes)  871.08   \n",
       "\n",
       "                               Lloguer_mitja_y  Preu_y  \n",
       "0  Lloguer mitjà per superfície (Euros/m2 mes)   13.50  \n",
       "1  Lloguer mitjà per superfície (Euros/m2 mes)   14.14  \n",
       "2  Lloguer mitjà per superfície (Euros/m2 mes)   19.46  \n",
       "3  Lloguer mitjà per superfície (Euros/m2 mes)   15.01  \n",
       "4  Lloguer mitjà per superfície (Euros/m2 mes)   12.77  "
      ]
     },
     "execution_count": 75,
     "metadata": {},
     "output_type": "execute_result"
    }
   ],
   "source": [
    "# rows where the price is the mean total price\n",
    "llogdf_month = llogdf[llogdf[\"Lloguer_mitja\"] == \"Lloguer mitjà mensual (Euros/mes)\"]\n",
    "\n",
    "\n",
    "# rows where the price is the mean price per square meter\n",
    "llogdf_sqrmet = llogdf[llogdf[\"Lloguer_mitja\"] != \"Lloguer mitjà mensual (Euros/mes)\"]\n",
    "\n",
    "llogdf_price = pd.merge(llogdf_month, llogdf_sqrmet, on=[\"Nom_Barri\", \"Nom_Districte\", \"Trimestre\"],  how='inner')\n",
    "llogdf_price.head()"
   ]
  },
  {
   "cell_type": "code",
   "execution_count": 76,
   "metadata": {},
   "outputs": [
    {
     "data": {
      "text/plain": [
       "(292, 7)"
      ]
     },
     "execution_count": 76,
     "metadata": {},
     "output_type": "execute_result"
    }
   ],
   "source": [
    "llogdf_price.shape"
   ]
  },
  {
   "cell_type": "markdown",
   "metadata": {},
   "source": [
    "We observe that the cardinality is what we expected. Now "
   ]
  }
 ],
 "metadata": {
  "kernelspec": {
   "display_name": "Python 3",
   "language": "python",
   "name": "python3"
  },
  "language_info": {
   "codemirror_mode": {
    "name": "ipython",
    "version": 3
   },
   "file_extension": ".py",
   "mimetype": "text/x-python",
   "name": "python",
   "nbconvert_exporter": "python",
   "pygments_lexer": "ipython3",
   "version": "3.10.12"
  }
 },
 "nbformat": 4,
 "nbformat_minor": 2
}
